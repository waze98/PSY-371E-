{
 "cells": [
  {
   "cell_type": "markdown",
   "id": "76b553f4-5edf-4b43-9014-1b2126edb582",
   "metadata": {},
   "source": [
    "### **Python Homework Assignment: Variables, Types, and Operators**\n",
    "\n",
    "**Objective:** Understand the basic concepts of variables, their types,\n",
    "and how operators can be used to manipulate them.\n",
    "\n",
    "#### Start a new JupyterLab Notebook and add code cells as needed. You can also add markdown cells to keep track of the questions.\n",
    "\n",
    "------------------------------------------------------------------------"
   ]
  },
  {
   "cell_type": "markdown",
   "id": "ff0c006d-7a83-4e0c-a082-88bd7ab72836",
   "metadata": {},
   "source": [
    "**1. Variables and Assignment**\n",
    "\n",
    "1.  Declare a variable `name` and assign your name to it. Print the\n",
    "    variable.\n",
    "    \n",
    "2.  Declare a variable `age` and assign your age to it. Print the\n",
    "    variable.\n",
    "\n",
    "3.  Swap the values of `name` and `age` without using a temporary\n",
    "    variable. Print the new values of `name` and `age`."
   ]
  },
  {
   "cell_type": "code",
   "execution_count": 2,
   "id": "7a9e84db-d7ca-4d5a-9c1e-a78d241e100a",
   "metadata": {},
   "outputs": [
    {
     "name": "stdout",
     "output_type": "stream",
     "text": [
      "Name: Wendy\n",
      "Age: 20\n",
      "New value of name: 20\n",
      "New value of age: Wendy\n"
     ]
    }
   ],
   "source": [
    "# 1. \n",
    "name = \"Wendy\"\n",
    "print(\"Name:\", name)\n",
    "\n",
    "# 2. \n",
    "age = 20\n",
    "print(\"Age:\", age)\n",
    "\n",
    "# 3.\n",
    "name, age = age, name\n",
    "print(\"New value of name:\", name)\n",
    "print(\"New value of age:\", age)"
   ]
  },
  {
   "cell_type": "markdown",
   "id": "a2ab04f1-3a37-49af-ad01-3b53d44c53db",
   "metadata": {},
   "source": [
    "------------------------------------------------------------------------\n",
    "\n",
    "**2. Data Types**\n",
    "\n",
    "a.  Using the `type()` function, determine and print the data type of\n",
    "    the following values. Three of these will be new to you, but we’ll\n",
    "    cover them soon!\n",
    "\n",
    "-   5\n",
    "-   5.0\n",
    "-   “5”\n",
    "-   \\[5\\]\n",
    "-   (5, )\n",
    "-   {5}\n",
    "-   True\n",
    "\n",
    "b.  Declare a variable `is_student` and assign it the value `True` if\n",
    "    you’re a student, otherwise `False`. Print the variable."
   ]
  },
  {
   "cell_type": "code",
   "execution_count": 3,
   "id": "cda6de25-a1c8-47ef-8885-eff4142fcb49",
   "metadata": {},
   "outputs": [
    {
     "name": "stdout",
     "output_type": "stream",
     "text": [
      "<class 'int'>\n",
      "<class 'float'>\n",
      "<class 'str'>\n",
      "<class 'list'>\n",
      "<class 'int'>\n",
      "<class 'set'>\n",
      "<class 'bool'>\n",
      "True\n"
     ]
    }
   ],
   "source": [
    "# a) Determine the data type of these values\n",
    "print(type(5))\n",
    "print(type(5.0))\n",
    "print(type(\"5\"))\n",
    "print(type([5]))\n",
    "print(type((5)))\n",
    "print(type({5}))\n",
    "print(type(True))\n",
    "\n",
    "# b) Boolean True/False\n",
    "is_student = True\n",
    "print(is_student)"
   ]
  },
  {
   "cell_type": "markdown",
   "id": "251152a3-3dc7-4909-b96e-4a5cc62f9936",
   "metadata": {},
   "source": [
    "------------------------------------------------------------------------\n",
    "\n",
    "**3. Basic Operators**\n",
    "\n",
    "a.  Using the `+`, `-`, `*`, and `/` operators, perform the following\n",
    "    operations:\n",
    "\n",
    "-   Add 15 and 23\n",
    "-   Subtract 50 from 34\n",
    "-   Multiply 8 by 7\n",
    "-   Divide 100 by 4\n",
    "\n",
    "Print all results.\n",
    "\n",
    "b.  Declare two variables `a = 10` and `b = 5`. Calculate and print the\n",
    "    following:\n",
    "\n",
    "-   The remainder when `a` is divided by `b`\n",
    "-   The result of `a` raised to the power of `b`\n"
   ]
  },
  {
   "cell_type": "code",
   "execution_count": 4,
   "id": "84b59ffa-a86b-4347-9c9e-432d6c4470bb",
   "metadata": {},
   "outputs": [
    {
     "name": "stdout",
     "output_type": "stream",
     "text": [
      "38\n",
      "16\n",
      "56\n",
      "25.0\n",
      "Remainder: 0\n",
      "Raised to the power: 100000\n"
     ]
    }
   ],
   "source": [
    "# a) Use +, -, *, and / operators\n",
    "print(15 + 23)\n",
    "print(50 - 34)\n",
    "print(8 * 7)\n",
    "print(100 / 4)\n",
    "\n",
    "# b) Declare 2 vars a = 10, b = 5\n",
    "a = 10\n",
    "b = 5\n",
    "\n",
    "print(\"Remainder:\", a % b)\n",
    "print(\"Raised to the power:\", a ** b)"
   ]
  },
  {
   "cell_type": "markdown",
   "id": "1606a11f-b2c5-49c7-bf40-4cdce8d72a86",
   "metadata": {},
   "source": [
    "------------------------------------------------------------------------\n",
    "\n",
    "**4. Type Conversion**\n",
    "\n",
    "a.  Convert the string `\"123\"` to an integer and print the result.\n",
    "\n",
    "b.  Convert the integer `456` to a string and print the result.\n",
    "\n",
    "c.  Convert the float `78.9` to an integer. What value do you get?"
   ]
  },
  {
   "cell_type": "code",
   "execution_count": 5,
   "id": "1a6c2096-e2bd-494d-b396-fd88f4639fd9",
   "metadata": {},
   "outputs": [
    {
     "name": "stdout",
     "output_type": "stream",
     "text": [
      "123\n",
      "456\n",
      "78\n"
     ]
    }
   ],
   "source": [
    "# a) String to integer\n",
    "print(int(\"123\"))\n",
    "\n",
    "# b) Integer to a string\n",
    "print(str(456))\n",
    "\n",
    "# c) Float to integer\n",
    "print(int(78.9))"
   ]
  },
  {
   "cell_type": "markdown",
   "id": "96f1ddbd-bd96-4ebf-b00e-6c2629039800",
   "metadata": {},
   "source": [
    "------------------------------------------------------------------------\n",
    "\n",
    "**5. String Manipulation with Operators**\n",
    "\n",
    "a.  Concatenate (join) the following strings and print the result:\n",
    "    `\"Python\"` and `\"Rocks\"`.\n",
    "\n",
    "b.  Repeat the string `\"Hello \"` three times using the multiplication\n",
    "    operator. Print the result."
   ]
  },
  {
   "cell_type": "code",
   "execution_count": 6,
   "id": "3e6c0517-4ea0-4b44-8cc6-455197d0826c",
   "metadata": {},
   "outputs": [
    {
     "name": "stdout",
     "output_type": "stream",
     "text": [
      "PythonRocks\n",
      "Hello Hello Hello \n"
     ]
    }
   ],
   "source": [
    "# a) Concatenate (join)\n",
    "print(\"Python\" + \"Rocks\")\n",
    "\n",
    "# b) Repeat string \"Hello \" 3 times using the multiplication operator\n",
    "print(\"Hello \" * 3)"
   ]
  },
  {
   "cell_type": "markdown",
   "id": "e1a3ba43-1bac-473f-860c-875bf811ace6",
   "metadata": {},
   "source": [
    "------------------------------------------------------------------------\n",
    "\n",
    "**6. Bonus Question**\n",
    "\n",
    "Declare three variables: `x = 5`, `y = 10`, and `z = 15`. Using only the\n",
    "arithmetic operators (`+`, `-`, `*`, `/`) and the variable names, swap\n",
    "the values of the variables such that `x` has the value of `y`, `y` has\n",
    "the value of `z`, and `z` has the value of `x`.\n",
    "\n",
    "(So, for example, x = x + z would be fair, but x = 20 would be\n",
    "cheating!)"
   ]
  },
  {
   "cell_type": "code",
   "execution_count": 7,
   "id": "500ff3b8-3cb4-4308-a6e8-daa498b43c90",
   "metadata": {},
   "outputs": [
    {
     "name": "stdout",
     "output_type": "stream",
     "text": [
      "10\n",
      "15\n",
      "5\n"
     ]
    }
   ],
   "source": [
    "# (+, -, *, /) and variable names, swap values of variables\n",
    "# x = y, y = z, z = x\n",
    "x = 5\n",
    "y = 10\n",
    "z = 15\n",
    "\n",
    "x = z - x\n",
    "print(x)\n",
    "# x = 10, y = 10\n",
    "\n",
    "y = z - y + x\n",
    "print(y)\n",
    "# y = 15, z = 15\n",
    "\n",
    "z = y - x\n",
    "print(z)\n",
    "# z = 5, x = 5"
   ]
  }
 ],
 "metadata": {
  "kernelspec": {
   "display_name": "Python 3 (ipykernel)",
   "language": "python",
   "name": "python3"
  },
  "language_info": {
   "codemirror_mode": {
    "name": "ipython",
    "version": 3
   },
   "file_extension": ".py",
   "mimetype": "text/x-python",
   "name": "python",
   "nbconvert_exporter": "python",
   "pygments_lexer": "ipython3",
   "version": "3.9.13"
  }
 },
 "nbformat": 4,
 "nbformat_minor": 5
}
